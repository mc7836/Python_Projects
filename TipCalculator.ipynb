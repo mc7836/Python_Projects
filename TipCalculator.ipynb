{
  "nbformat": 4,
  "nbformat_minor": 0,
  "metadata": {
    "colab": {
      "name": "TipCalculator.ipynb",
      "provenance": [],
      "authorship_tag": "ABX9TyM7P9myxxqFAPA9DdVcLvzJ",
      "include_colab_link": true
    },
    "kernelspec": {
      "name": "python3",
      "display_name": "Python 3"
    },
    "language_info": {
      "name": "python"
    }
  },
  "cells": [
    {
      "cell_type": "markdown",
      "metadata": {
        "id": "view-in-github",
        "colab_type": "text"
      },
      "source": [
        "<a href=\"https://colab.research.google.com/github/mc7836/python_projects/blob/main/TipCalculator.ipynb\" target=\"_parent\"><img src=\"https://colab.research.google.com/assets/colab-badge.svg\" alt=\"Open In Colab\"/></a>"
      ]
    },
    {
      "cell_type": "markdown",
      "metadata": {
        "id": "b6Y9Q58C3Kni"
      },
      "source": [
        "Assume that you go to a restaurant, and you order $50 worth of food. Then you need to add the NY Sales Tax (8.875%) and add a tip (say, 20%). Write down the calculation that will print the total cost of the food."
      ]
    },
    {
      "cell_type": "code",
      "metadata": {
        "colab": {
          "base_uri": "https://localhost:8080/"
        },
        "id": "MvaUaCxO26tg",
        "outputId": "7a60ef58-698e-4822-98bb-445eb0d38875"
      },
      "source": [
        "# tip calculated on the pre-tax amount\n",
        "# how much to tip pre-tax\n",
        "meal_price=50\n",
        "tip=20\n",
        "tax=8.875\n",
        "print(\"The total cost of the meal, with tip on the pre-tax amount is:\")\n",
        "print(meal_price+meal_price * tax/100 +meal_price*tip/100)\n",
        "\n",
        "print(\"The tip on the pre-tax amount is:\")\n",
        "print(meal_price*tip/100)"
      ],
      "execution_count": null,
      "outputs": [
        {
          "output_type": "stream",
          "name": "stdout",
          "text": [
            "The total cost of the meal, with tip on the pre-tax amount is:\n",
            "64.4375\n",
            "The tip on the pre-tax amount is:\n",
            "10.0\n"
          ]
        }
      ]
    },
    {
      "cell_type": "code",
      "metadata": {
        "colab": {
          "base_uri": "https://localhost:8080/"
        },
        "id": "o7C6ga9a3QLJ",
        "outputId": "1f6e63fb-51df-47c3-fb66-9f69ce138d13"
      },
      "source": [
        "# tip calculated on the after-tax amount\n",
        "# how much to tip after tax\n",
        "meal_price=50\n",
        "tip=20\n",
        "tax=8.875\n",
        "overall_cost=(meal_price+meal_price*tax/100+(meal_price+meal_price*tax/100)*tip/100)\n",
        "print(\"The total cost of the meal, with tip on the post-tax amount is:\")\n",
        "print(overall_cost)\n",
        "\n",
        "print(\"The tip on the post-tax amount is:\")\n",
        "mealprice_tax=(meal_price+meal_price*tax/100)\n",
        "tip_aftertax=(overall_cost-mealprice_tax)\n",
        "print(tip_aftertax)\n",
        "\n"
      ],
      "execution_count": null,
      "outputs": [
        {
          "output_type": "stream",
          "name": "stdout",
          "text": [
            "The total cost of the meal, with tip on the post-tax amount is:\n",
            "65.325\n",
            "The tip on the post-tax amount is:\n",
            "10.887500000000003\n"
          ]
        }
      ]
    },
    {
      "cell_type": "code",
      "metadata": {
        "id": "_ByfKsGd3Qrk"
      },
      "source": [
        "HOeho rhvoprhv dkfh vlknm;slf jvlho"
      ],
      "execution_count": null,
      "outputs": []
    }
  ]
}