{
  "nbformat": 4,
  "nbformat_minor": 0,
  "metadata": {
    "kernelspec": {
      "display_name": "Python 3",
      "language": "python",
      "name": "python3"
    },
    "language_info": {
      "codemirror_mode": {
        "name": "ipython",
        "version": 3
      },
      "file_extension": ".py",
      "mimetype": "text/x-python",
      "name": "python",
      "nbconvert_exporter": "python",
      "pygments_lexer": "ipython3",
      "version": "3.6.5"
    },
    "colab": {
      "name": "B-Numeric_Expressions.ipynb",
      "provenance": [],
      "include_colab_link": true
    }
  },
  "cells": [
    {
      "cell_type": "markdown",
      "metadata": {
        "id": "view-in-github",
        "colab_type": "text"
      },
      "source": [
        "<a href=\"https://colab.research.google.com/github/mc7836/python_projects/blob/main/2-Introduction_to_Python/B-Numeric_Expressions.ipynb\" target=\"_parent\"><img src=\"https://colab.research.google.com/assets/colab-badge.svg\" alt=\"Open In Colab\"/></a>"
      ]
    },
    {
      "cell_type": "markdown",
      "metadata": {
        "id": "ZpPqoNrmbJHH"
      },
      "source": [
        "# Expressions, Data Types, and Variables\n",
        "\n",
        "\n"
      ]
    },
    {
      "cell_type": "markdown",
      "metadata": {
        "id": "VHTk79rybJHz"
      },
      "source": [
        "## Exercise 2"
      ]
    },
    {
      "cell_type": "markdown",
      "metadata": {
        "id": "rxd_I8KObJH0"
      },
      "source": [
        "\n",
        "You have a stock that closed at \\$550 on Monday, and then closed at \\$560 on Tuesday. Calculate its daily return: the daily return is defined as the difference in the closing prices, divided by the closing price the day before."
      ]
    },
    {
      "cell_type": "code",
      "metadata": {
        "id": "DTyrmNyhbJH1"
      },
      "source": [
        "# your code here"
      ],
      "execution_count": null,
      "outputs": []
    },
    {
      "cell_type": "markdown",
      "metadata": {
        "heading_collapsed": true,
        "solution2": "hidden",
        "solution2_first": true,
        "id": "utuN7iS3bJH1"
      },
      "source": [
        "### Solution"
      ]
    },
    {
      "cell_type": "code",
      "metadata": {
        "hidden": true,
        "solution2": "hidden",
        "id": "RTxNfoFJbJH2",
        "colab": {
          "base_uri": "https://localhost:8080/"
        },
        "outputId": "d318ebda-f680-47de-9321-16e677f316ab"
      },
      "source": [
        "print(\"The daily return is:\")\n",
        "print((560 - 550) / 550)"
      ],
      "execution_count": null,
      "outputs": [
        {
          "output_type": "stream",
          "name": "stdout",
          "text": [
            "The daily return is:\n",
            "0.01818181818181818\n"
          ]
        }
      ]
    },
    {
      "cell_type": "code",
      "metadata": {
        "hidden": true,
        "solution2": "hidden",
        "id": "aFqKk-NabJH3",
        "colab": {
          "base_uri": "https://localhost:8080/"
        },
        "outputId": "818cc644-2a6d-4650-8bd0-7699d9c67cde"
      },
      "source": [
        "# If we want to show percentages,\n",
        "# We can modify our code and\n",
        "# add a multiplication with 100 in front:\n",
        "print(\"The daily return is:\")\n",
        "print(100 * (560 - 550) / 550)"
      ],
      "execution_count": null,
      "outputs": [
        {
          "output_type": "stream",
          "name": "stdout",
          "text": [
            "The daily return is:\n",
            "1.8181818181818181\n"
          ]
        }
      ]
    },
    {
      "cell_type": "markdown",
      "metadata": {
        "id": "0dZ52fDBbJH4"
      },
      "source": [
        "## Exercise 3\n"
      ]
    },
    {
      "cell_type": "markdown",
      "metadata": {
        "id": "69Xttz-SbJH4"
      },
      "source": [
        "\n",
        "Assume that someone's height is 5 ft and 9 inches. Conver that to centimeters. Remember that one foot is 30.48 centimeters, and one inch is 2.54 centimeters."
      ]
    },
    {
      "cell_type": "code",
      "metadata": {
        "id": "krf-IIHObJH4"
      },
      "source": [
        "# your code here"
      ],
      "execution_count": null,
      "outputs": []
    },
    {
      "cell_type": "markdown",
      "metadata": {
        "heading_collapsed": true,
        "solution2": "hidden",
        "solution2_first": true,
        "id": "Av7sgNpZbJH5"
      },
      "source": [
        "### Solution"
      ]
    },
    {
      "cell_type": "code",
      "metadata": {
        "hidden": true,
        "solution2": "hidden",
        "id": "pI7R2ybUbJH5",
        "colab": {
          "base_uri": "https://localhost:8080/"
        },
        "outputId": "45a0f9e5-7df9-40ec-a4bc-fefde0106a3f"
      },
      "source": [
        "print(\"The height in centimeters is:\")\n",
        "print(5 * 30.48 + 9 * 2.54)"
      ],
      "execution_count": null,
      "outputs": [
        {
          "output_type": "stream",
          "name": "stdout",
          "text": [
            "The height in centimeters is:\n",
            "175.26\n"
          ]
        }
      ]
    },
    {
      "cell_type": "markdown",
      "metadata": {
        "id": "NS9CZsOrbJH7"
      },
      "source": [
        "## Exercise 4\n"
      ]
    },
    {
      "cell_type": "markdown",
      "metadata": {
        "id": "Dp5e_PBwbJH7"
      },
      "source": [
        "\n",
        "Write a Python program to compute the future value of a deposit with a a principal amount of \\$10,000, rate of interest 3 percent, and after 5 years. Remember that the value is: $ Principal * (1+interest)^{years}$ and you will need to use the power operator  (**) for this calculation."
      ]
    },
    {
      "cell_type": "code",
      "metadata": {
        "id": "yAQS5lpnbJH8"
      },
      "source": [
        "# your code here"
      ],
      "execution_count": null,
      "outputs": []
    },
    {
      "cell_type": "markdown",
      "metadata": {
        "solution2": "hidden",
        "solution2_first": true,
        "id": "w3s_XUGBbJH8"
      },
      "source": [
        "### Solution"
      ]
    },
    {
      "cell_type": "code",
      "metadata": {
        "solution2": "hidden",
        "id": "DnZThNn6bJH8",
        "outputId": "3a949bb9-9f40-41ec-f0fa-b4324ed2b2cc"
      },
      "source": [
        "print(\"The value of the deposit will be:\")\n",
        "print(10000 * (1 + 3 / 100)**5)"
      ],
      "execution_count": null,
      "outputs": [
        {
          "name": "stdout",
          "output_type": "stream",
          "text": [
            "The value of the deposit will be:\n",
            "11592.740743\n"
          ]
        }
      ]
    },
    {
      "cell_type": "markdown",
      "metadata": {
        "id": "GBnMWKoWbJH9"
      },
      "source": [
        "## Exercise 5"
      ]
    },
    {
      "cell_type": "markdown",
      "metadata": {
        "id": "er7W-paabJH-"
      },
      "source": [
        "Assume that someone's height is 180 centimeters. Convert that height into feet and inches. Remember that one foot is 30.48 centimeters, and one inch is 2.54 centimeters. You will need to use the modulo operator (%) for this conversion. Also use the `int(...)` function to get the integer part of a division. Optionally, you can also use the `round(...)` function to get the rounded integer number from a decimal."
      ]
    },
    {
      "cell_type": "code",
      "metadata": {
        "id": "FTGtYE6ZbJH-"
      },
      "source": [
        "# your code here"
      ],
      "execution_count": null,
      "outputs": []
    },
    {
      "cell_type": "markdown",
      "metadata": {
        "solution2": "hidden",
        "solution2_first": true,
        "id": "Ljejb_7abJH_"
      },
      "source": [
        "### Solution"
      ]
    },
    {
      "cell_type": "code",
      "metadata": {
        "solution2": "hidden",
        "id": "2QFrO9S6bJIA",
        "outputId": "7d92c37a-76fe-4afc-8d84-5d59742595ab"
      },
      "source": [
        "print(\"180 cm is\")\n",
        "print(180 // 30.48)\n",
        "print(\"feet and \")\n",
        "print(180 % 30.48 / 2.54)\n",
        "print(\"inches\")"
      ],
      "execution_count": null,
      "outputs": [
        {
          "name": "stdout",
          "output_type": "stream",
          "text": [
            "180 cm is\n",
            "5.0\n",
            "feet and \n",
            "10.866141732283463\n",
            "inches\n"
          ]
        }
      ]
    },
    {
      "cell_type": "code",
      "metadata": {
        "solution2": "hidden",
        "id": "H4RPXXJBbJIA",
        "outputId": "303020a5-f72e-4bfc-e7ac-e956e718b261"
      },
      "source": [
        "# let’s see how we can print the message in one line\n",
        "print(\"180 cm is\", 180 // 30.48, \"feet and \", 180 % 30.48 / 2.54, \"inches\")"
      ],
      "execution_count": null,
      "outputs": [
        {
          "name": "stdout",
          "output_type": "stream",
          "text": [
            "180 cm is 5.0 feet and  10.866141732283463 inches\n"
          ]
        }
      ]
    },
    {
      "cell_type": "code",
      "metadata": {
        "solution2": "hidden",
        "id": "qE251o1ZbJIB",
        "outputId": "de4281ad-dbfe-47f9-cdbe-cb9211b4f81f"
      },
      "source": [
        "# Let's use int() function to make the output look a bit nicer.\n",
        "print(\"180 cm is\", int(180 / 30.48), \"feet and\", int(180 % 30.48 / 2.54), \"inches\")"
      ],
      "execution_count": null,
      "outputs": [
        {
          "name": "stdout",
          "output_type": "stream",
          "text": [
            "180 cm is 5 feet and 10 inches\n"
          ]
        }
      ]
    },
    {
      "cell_type": "code",
      "metadata": {
        "solution2": "hidden",
        "id": "AsXffCcBbJIC",
        "outputId": "3c0d14b5-ac9e-4a32-8a58-26bd10d24586"
      },
      "source": [
        "# Let's use the functions int() and round()\n",
        "print(\"180 cm is\", int(180 / 30.48), \"feet and\", round(180 % 30.48 / 2.54, 1), \"inches\")"
      ],
      "execution_count": null,
      "outputs": [
        {
          "name": "stdout",
          "output_type": "stream",
          "text": [
            "180 cm is 5 feet and 10.9 inches\n"
          ]
        }
      ]
    },
    {
      "cell_type": "code",
      "metadata": {
        "id": "aOiyd8gybJID"
      },
      "source": [
        ""
      ],
      "execution_count": null,
      "outputs": []
    }
  ]
}