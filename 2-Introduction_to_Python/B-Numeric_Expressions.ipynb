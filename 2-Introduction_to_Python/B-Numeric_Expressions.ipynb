{
  "nbformat": 4,
  "nbformat_minor": 0,
  "metadata": {
    "kernelspec": {
      "display_name": "Python 3",
      "language": "python",
      "name": "python3"
    },
    "language_info": {
      "codemirror_mode": {
        "name": "ipython",
        "version": 3
      },
      "file_extension": ".py",
      "mimetype": "text/x-python",
      "name": "python",
      "nbconvert_exporter": "python",
      "pygments_lexer": "ipython3",
      "version": "3.6.5"
    },
    "colab": {
      "name": "B-Numeric_Expressions.ipynb",
      "provenance": [],
      "include_colab_link": true
    }
  },
  "cells": [
    {
      "cell_type": "markdown",
      "metadata": {
        "id": "view-in-github",
        "colab_type": "text"
      },
      "source": [
        "<a href=\"https://colab.research.google.com/github/mc7836/python_projects/blob/main/2-Introduction_to_Python/B-Numeric_Expressions.ipynb\" target=\"_parent\"><img src=\"https://colab.research.google.com/assets/colab-badge.svg\" alt=\"Open In Colab\"/></a>"
      ]
    },
    {
      "cell_type": "markdown",
      "metadata": {
        "id": "ZpPqoNrmbJHH"
      },
      "source": [
        "# Expressions, Data Types, and Variables\n",
        "\n",
        "\n"
      ]
    },
    {
      "cell_type": "markdown",
      "metadata": {
        "id": "cUk5u54LbJHb"
      },
      "source": [
        "## Math Expressions for Numeric Types\n",
        "\n"
      ]
    },
    {
      "cell_type": "markdown",
      "metadata": {
        "id": "mVxQUtpAbJHe"
      },
      "source": [
        "We will start first by dealing with numbers and see how we can do various math and logical operations with Python. Here are a few operators that we will be using:\n",
        "\n",
        "* `+` addition, add two numbers\n",
        "* `-` subtraction and negation\n",
        "* `*` multiplication, multiply two numbers\n",
        "* `/` divide first  with the outcome being decimal outcome\n",
        "* `//` division with the outcome being integer (return only the integer part of the outcome)\n",
        "* `%` modulo/division remainder, what is the remainder when the first number is divided by the second?\n",
        "* `**` power, raise the first number into a power given by the second number"
      ]
    },
    {
      "cell_type": "code",
      "metadata": {
        "id": "f3VC2WH2bJHf",
        "outputId": "08b1d48c-37e6-48ca-cf07-4e03e9a05c7f"
      },
      "source": [
        "print(\"addition:\")\n",
        "print(1 + 1)\n",
        "print(1.5 + 1)"
      ],
      "execution_count": null,
      "outputs": [
        {
          "name": "stdout",
          "output_type": "stream",
          "text": [
            "addition:\n",
            "2\n",
            "2.5\n"
          ]
        }
      ]
    },
    {
      "cell_type": "code",
      "metadata": {
        "id": "61HX6sOQbJHj"
      },
      "source": [
        "print(\"subtraction:\")\n",
        "print(1 - 1)\n",
        "print(1 - 1.0)"
      ],
      "execution_count": null,
      "outputs": []
    },
    {
      "cell_type": "code",
      "metadata": {
        "id": "8KBthAkBbJHk"
      },
      "source": [
        "print(\"negation:\")\n",
        "print(-5)"
      ],
      "execution_count": null,
      "outputs": []
    },
    {
      "cell_type": "code",
      "metadata": {
        "id": "wHXlxoBebJHl"
      },
      "source": [
        "print(\"multiplication:\")\n",
        "print(3 * 3)  # integer\n",
        "print(3 * 3.0)  # floating point"
      ],
      "execution_count": null,
      "outputs": []
    },
    {
      "cell_type": "code",
      "metadata": {
        "id": "OyoC3dxTbJHn"
      },
      "source": [
        "print(\"division:\")\n",
        "print(4 / 2)\n",
        "print(5 / 2)"
      ],
      "execution_count": null,
      "outputs": []
    },
    {
      "cell_type": "code",
      "metadata": {
        "id": "yhLunLkYbJHp"
      },
      "source": [
        "print(\"integer division:\")\n",
        "print(4 // 2)\n",
        "print(5 // 2)"
      ],
      "execution_count": null,
      "outputs": []
    },
    {
      "cell_type": "code",
      "metadata": {
        "id": "zt57vJ8dbJHq"
      },
      "source": [
        "print(\"modulo:\")  # modulo is a fancy term for remainder of a division\n",
        "print(4 % 2)\n",
        "print(5 % 2)\n",
        "print(5.5 % 2)\n",
        "print(75 % 4)\n",
        "print(10 % 3)"
      ],
      "execution_count": null,
      "outputs": []
    },
    {
      "cell_type": "code",
      "metadata": {
        "id": "dpbC1twebJHs"
      },
      "source": [
        "print(\"power:\")\n",
        "print(10**3)\n",
        "print(2**5)"
      ],
      "execution_count": null,
      "outputs": []
    },
    {
      "cell_type": "markdown",
      "metadata": {
        "id": "pR60WmQ4bJHt"
      },
      "source": [
        "## Exercise 1"
      ]
    },
    {
      "cell_type": "markdown",
      "metadata": {
        "id": "G80BobpebJHt"
      },
      "source": [
        "Assume that you go to a restaurant, and you order $50 worth of food. Then you need to add the NY Sales Tax (8.875%) and add a tip (say, 20%). Write down the calculation that will print the total cost of the food."
      ]
    },
    {
      "cell_type": "code",
      "metadata": {
        "id": "ziIwayuCbJHv",
        "outputId": "719376be-0b19-43ad-b2c6-b9ad7598fb8b",
        "colab": {
          "base_uri": "https://localhost:8080/"
        }
      },
      "source": [
        "# tip calculated on the pre-tax amount\n",
        "# how much to tip pre-tax\n",
        "meal_price=50\n",
        "tip=20\n",
        "tax=8.875\n",
        "print(\"The total cost of the meal, with tip on the pre-tax amount is:\")\n",
        "print(meal_price+meal_price * tax/100 +meal_price*tip/100)\n",
        "\n",
        "print(\"The tip on the pre-tax amount is:\")\n",
        "print(meal_price*tip/100)"
      ],
      "execution_count": 24,
      "outputs": [
        {
          "output_type": "stream",
          "name": "stdout",
          "text": [
            "The total cost of the meal, with tip on the pre-tax amount is:\n",
            "64.4375\n",
            "The tip on the pre-tax amount is:\n",
            "10.0\n"
          ]
        }
      ]
    },
    {
      "cell_type": "code",
      "metadata": {
        "id": "g5p6BmlNbJHw",
        "outputId": "57673ebf-35cc-49f6-8fac-f8f68f4591af",
        "colab": {
          "base_uri": "https://localhost:8080/"
        }
      },
      "source": [
        "# tip calculated on the after-tax amount\n",
        "# how much to tip after tax\n",
        "meal_price=50\n",
        "tip=20\n",
        "tax=8.875\n",
        "overall_cost=(meal_price+meal_price*tax/100+(meal_price+meal_price*tax/100)*tip/100)\n",
        "print(\"The total cost of the meal, with tip on the post-tax amount is:\")\n",
        "print(overall_cost)\n",
        "\n",
        "print(\"The tip on the post-tax amount is:\")\n",
        "mealprice_tax=(meal_price+meal_price*tax/100)\n",
        "tip_aftertax=(overall_cost-mealprice_tax)\n",
        "print(tip_aftertax)\n",
        "\n"
      ],
      "execution_count": 26,
      "outputs": [
        {
          "output_type": "stream",
          "name": "stdout",
          "text": [
            "The total cost of the meal, with tip on the post-tax amount is:\n",
            "65.325\n",
            "The tip on the post-tax amount is:\n",
            "10.887500000000003\n"
          ]
        }
      ]
    },
    {
      "cell_type": "markdown",
      "metadata": {
        "heading_collapsed": true,
        "solution2": "hidden",
        "solution2_first": true,
        "id": "hMZqEy0-bJHx"
      },
      "source": [
        "### Solution"
      ]
    },
    {
      "cell_type": "code",
      "metadata": {
        "hidden": true,
        "solution2": "hidden",
        "id": "elvx2UE8bJHy",
        "outputId": "4b1f86ee-f6a7-431b-94b6-4de271eee95c",
        "colab": {
          "base_uri": "https://localhost:8080/"
        }
      },
      "source": [
        "print(\"The total cost of the meal, with tip on the pre-tax amount is:\")\n",
        "print(50 + 50 * 8.875 / 100 + 50 * 20 / 100)"
      ],
      "execution_count": 7,
      "outputs": [
        {
          "output_type": "stream",
          "name": "stdout",
          "text": [
            "The total cost of the meal, with tip on the pre-tax amount is:\n",
            "64.4375\n"
          ]
        }
      ]
    },
    {
      "cell_type": "code",
      "metadata": {
        "hidden": true,
        "solution2": "hidden",
        "id": "SwyhC2OlbJHz",
        "outputId": "c8fe38b3-9a64-4431-a676-082a92610486",
        "colab": {
          "base_uri": "https://localhost:8080/"
        }
      },
      "source": [
        "print(\"The total cost of the meal, with tip on the post-tax amount is:\")\n",
        "print(50 + 50 * 8.875 / 100 + (50 + 50 * 8.875 / 100) * 20 / 100)"
      ],
      "execution_count": 14,
      "outputs": [
        {
          "output_type": "stream",
          "name": "stdout",
          "text": [
            "The total cost of the meal, with tip on the post-tax amount is:\n",
            "65.325\n"
          ]
        }
      ]
    },
    {
      "cell_type": "markdown",
      "metadata": {
        "id": "VHTk79rybJHz"
      },
      "source": [
        "## Exercise 2"
      ]
    },
    {
      "cell_type": "markdown",
      "metadata": {
        "id": "rxd_I8KObJH0"
      },
      "source": [
        "\n",
        "You have a stock that closed at \\$550 on Monday, and then closed at \\$560 on Tuesday. Calculate its daily return: the daily return is defined as the difference in the closing prices, divided by the closing price the day before."
      ]
    },
    {
      "cell_type": "code",
      "metadata": {
        "id": "DTyrmNyhbJH1"
      },
      "source": [
        "# your code here"
      ],
      "execution_count": null,
      "outputs": []
    },
    {
      "cell_type": "markdown",
      "metadata": {
        "heading_collapsed": true,
        "solution2": "hidden",
        "solution2_first": true,
        "id": "utuN7iS3bJH1"
      },
      "source": [
        "### Solution"
      ]
    },
    {
      "cell_type": "code",
      "metadata": {
        "hidden": true,
        "solution2": "hidden",
        "id": "RTxNfoFJbJH2",
        "outputId": "d318ebda-f680-47de-9321-16e677f316ab",
        "colab": {
          "base_uri": "https://localhost:8080/"
        }
      },
      "source": [
        "print(\"The daily return is:\")\n",
        "print((560 - 550) / 550)"
      ],
      "execution_count": 27,
      "outputs": [
        {
          "output_type": "stream",
          "name": "stdout",
          "text": [
            "The daily return is:\n",
            "0.01818181818181818\n"
          ]
        }
      ]
    },
    {
      "cell_type": "code",
      "metadata": {
        "hidden": true,
        "solution2": "hidden",
        "id": "aFqKk-NabJH3",
        "outputId": "818cc644-2a6d-4650-8bd0-7699d9c67cde",
        "colab": {
          "base_uri": "https://localhost:8080/"
        }
      },
      "source": [
        "# If we want to show percentages,\n",
        "# We can modify our code and\n",
        "# add a multiplication with 100 in front:\n",
        "print(\"The daily return is:\")\n",
        "print(100 * (560 - 550) / 550)"
      ],
      "execution_count": 28,
      "outputs": [
        {
          "output_type": "stream",
          "name": "stdout",
          "text": [
            "The daily return is:\n",
            "1.8181818181818181\n"
          ]
        }
      ]
    },
    {
      "cell_type": "markdown",
      "metadata": {
        "id": "0dZ52fDBbJH4"
      },
      "source": [
        "## Exercise 3\n"
      ]
    },
    {
      "cell_type": "markdown",
      "metadata": {
        "id": "69Xttz-SbJH4"
      },
      "source": [
        "\n",
        "Assume that someone's height is 5 ft and 9 inches. Conver that to centimeters. Remember that one foot is 30.48 centimeters, and one inch is 2.54 centimeters."
      ]
    },
    {
      "cell_type": "code",
      "metadata": {
        "id": "krf-IIHObJH4"
      },
      "source": [
        "# your code here"
      ],
      "execution_count": null,
      "outputs": []
    },
    {
      "cell_type": "markdown",
      "metadata": {
        "heading_collapsed": true,
        "solution2": "hidden",
        "solution2_first": true,
        "id": "Av7sgNpZbJH5"
      },
      "source": [
        "### Solution"
      ]
    },
    {
      "cell_type": "code",
      "metadata": {
        "hidden": true,
        "solution2": "hidden",
        "id": "pI7R2ybUbJH5",
        "outputId": "45a0f9e5-7df9-40ec-a4bc-fefde0106a3f",
        "colab": {
          "base_uri": "https://localhost:8080/"
        }
      },
      "source": [
        "print(\"The height in centimeters is:\")\n",
        "print(5 * 30.48 + 9 * 2.54)"
      ],
      "execution_count": 29,
      "outputs": [
        {
          "output_type": "stream",
          "name": "stdout",
          "text": [
            "The height in centimeters is:\n",
            "175.26\n"
          ]
        }
      ]
    },
    {
      "cell_type": "markdown",
      "metadata": {
        "id": "NS9CZsOrbJH7"
      },
      "source": [
        "## Exercise 4\n"
      ]
    },
    {
      "cell_type": "markdown",
      "metadata": {
        "id": "Dp5e_PBwbJH7"
      },
      "source": [
        "\n",
        "Write a Python program to compute the future value of a deposit with a a principal amount of \\$10,000, rate of interest 3 percent, and after 5 years. Remember that the value is: $ Principal * (1+interest)^{years}$ and you will need to use the power operator  (**) for this calculation."
      ]
    },
    {
      "cell_type": "code",
      "metadata": {
        "id": "yAQS5lpnbJH8"
      },
      "source": [
        "# your code here"
      ],
      "execution_count": null,
      "outputs": []
    },
    {
      "cell_type": "markdown",
      "metadata": {
        "solution2": "hidden",
        "solution2_first": true,
        "id": "w3s_XUGBbJH8"
      },
      "source": [
        "### Solution"
      ]
    },
    {
      "cell_type": "code",
      "metadata": {
        "solution2": "hidden",
        "id": "DnZThNn6bJH8",
        "outputId": "3a949bb9-9f40-41ec-f0fa-b4324ed2b2cc"
      },
      "source": [
        "print(\"The value of the deposit will be:\")\n",
        "print(10000 * (1 + 3 / 100)**5)"
      ],
      "execution_count": null,
      "outputs": [
        {
          "name": "stdout",
          "output_type": "stream",
          "text": [
            "The value of the deposit will be:\n",
            "11592.740743\n"
          ]
        }
      ]
    },
    {
      "cell_type": "markdown",
      "metadata": {
        "id": "GBnMWKoWbJH9"
      },
      "source": [
        "## Exercise 5"
      ]
    },
    {
      "cell_type": "markdown",
      "metadata": {
        "id": "er7W-paabJH-"
      },
      "source": [
        "Assume that someone's height is 180 centimeters. Convert that height into feet and inches. Remember that one foot is 30.48 centimeters, and one inch is 2.54 centimeters. You will need to use the modulo operator (%) for this conversion. Also use the `int(...)` function to get the integer part of a division. Optionally, you can also use the `round(...)` function to get the rounded integer number from a decimal."
      ]
    },
    {
      "cell_type": "code",
      "metadata": {
        "id": "FTGtYE6ZbJH-"
      },
      "source": [
        "# your code here"
      ],
      "execution_count": null,
      "outputs": []
    },
    {
      "cell_type": "markdown",
      "metadata": {
        "solution2": "hidden",
        "solution2_first": true,
        "id": "Ljejb_7abJH_"
      },
      "source": [
        "### Solution"
      ]
    },
    {
      "cell_type": "code",
      "metadata": {
        "solution2": "hidden",
        "id": "2QFrO9S6bJIA",
        "outputId": "7d92c37a-76fe-4afc-8d84-5d59742595ab"
      },
      "source": [
        "print(\"180 cm is\")\n",
        "print(180 // 30.48)\n",
        "print(\"feet and \")\n",
        "print(180 % 30.48 / 2.54)\n",
        "print(\"inches\")"
      ],
      "execution_count": null,
      "outputs": [
        {
          "name": "stdout",
          "output_type": "stream",
          "text": [
            "180 cm is\n",
            "5.0\n",
            "feet and \n",
            "10.866141732283463\n",
            "inches\n"
          ]
        }
      ]
    },
    {
      "cell_type": "code",
      "metadata": {
        "solution2": "hidden",
        "id": "H4RPXXJBbJIA",
        "outputId": "303020a5-f72e-4bfc-e7ac-e956e718b261"
      },
      "source": [
        "# let’s see how we can print the message in one line\n",
        "print(\"180 cm is\", 180 // 30.48, \"feet and \", 180 % 30.48 / 2.54, \"inches\")"
      ],
      "execution_count": null,
      "outputs": [
        {
          "name": "stdout",
          "output_type": "stream",
          "text": [
            "180 cm is 5.0 feet and  10.866141732283463 inches\n"
          ]
        }
      ]
    },
    {
      "cell_type": "code",
      "metadata": {
        "solution2": "hidden",
        "id": "qE251o1ZbJIB",
        "outputId": "de4281ad-dbfe-47f9-cdbe-cb9211b4f81f"
      },
      "source": [
        "# Let's use int() function to make the output look a bit nicer.\n",
        "print(\"180 cm is\", int(180 / 30.48), \"feet and\", int(180 % 30.48 / 2.54), \"inches\")"
      ],
      "execution_count": null,
      "outputs": [
        {
          "name": "stdout",
          "output_type": "stream",
          "text": [
            "180 cm is 5 feet and 10 inches\n"
          ]
        }
      ]
    },
    {
      "cell_type": "code",
      "metadata": {
        "solution2": "hidden",
        "id": "AsXffCcBbJIC",
        "outputId": "3c0d14b5-ac9e-4a32-8a58-26bd10d24586"
      },
      "source": [
        "# Let's use the functions int() and round()\n",
        "print(\"180 cm is\", int(180 / 30.48), \"feet and\", round(180 % 30.48 / 2.54, 1), \"inches\")"
      ],
      "execution_count": null,
      "outputs": [
        {
          "name": "stdout",
          "output_type": "stream",
          "text": [
            "180 cm is 5 feet and 10.9 inches\n"
          ]
        }
      ]
    },
    {
      "cell_type": "code",
      "metadata": {
        "id": "aOiyd8gybJID"
      },
      "source": [
        ""
      ],
      "execution_count": null,
      "outputs": []
    }
  ]
}